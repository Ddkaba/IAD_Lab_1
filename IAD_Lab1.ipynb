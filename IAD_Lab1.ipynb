{
  "cells": [
    {
      "cell_type": "markdown",
      "metadata": {
        "colab_type": "text",
        "id": "view-in-github"
      },
      "source": [
        "<a href=\"https://colab.research.google.com/github/Ddkaba/IAD_Lab_1/blob/main/IAD_Lab1.ipynb\" target=\"_parent\"><img src=\"https://colab.research.google.com/assets/colab-badge.svg\" alt=\"Open In Colab\"/></a>"
      ]
    },
    {
      "cell_type": "code",
      "execution_count": null,
      "metadata": {
        "id": "7QeQeup-ME4S"
      },
      "outputs": [],
      "source": [
        "import os\n",
        "\n",
        "import pandas as pd\n",
        "import numpy as np\n",
        "\n",
        "import matplotlib.pyplot as plt\n",
        "\n",
        "from sklearn.model_selection import train_test_split\n",
        "from sklearn.preprocessing import StandardScaler, OneHotEncoder\n",
        "from sklearn.compose import ColumnTransformer\n",
        "from sklearn.metrics import accuracy_score, precision_score, recall_score, f1_score, roc_auc_score, roc_curve\n",
        "from sklearn.svm import SVC"
      ]
    },
    {
      "cell_type": "code",
      "execution_count": null,
      "metadata": {
        "id": "HwDq2UhwM3-F"
      },
      "outputs": [],
      "source": [
        "dataset = pd.read_csv(\"V2.csv\", index_col=0)\n",
        "if 'No' in dataset.columns:\n",
        "    dataset = dataset.drop(columns=['No'])"
      ]
    },
    {
      "cell_type": "code",
      "execution_count": null,
      "metadata": {},
      "outputs": [],
      "source": [
        "# ### BEGIN YOUR CODE\n",
        "print(\"Общая информация\")\n",
        "print(dataset.info())\n",
        "\n",
        "print(f\"Количество записей (объектов): {dataset.shape[0]}\")\n",
        "print(f\"Количество признаков (фич): {dataset.shape[1]}\")\n",
        "\n",
        "print(\"\\nНазвания столбцов:\")\n",
        "print(dataset.columns.tolist())\n",
        "\n",
        "print(\"\\nТипы данных:\")\n",
        "print(dataset.dtypes)\n",
        "\n",
        "print(\"\\nПропущенные значения:\")\n",
        "missing_values = dataset.isnull().sum()\n",
        "print(missing_values)\n",
        "print(f\"Общее количество пропущенных значений: {missing_values.sum()}\")\n",
        "\n",
        "print(\"Целевая переменная\")\n",
        "target_column = 'Y house price of unit area'\n",
        "if target_column in dataset.columns:\n",
        "    print(f\"\\nЦелевая переменная: {target_column}\")\n",
        "    print(f\"Тип данных целевой переменной: {dataset[target_column].dtype}\")\n",
        "    unique_values = dataset[target_column].unique()\n",
        "    print(f\"Уникальные значения целевой переменной (первые 20): {unique_values[:20]}\")\n",
        "    print(f\"Всего уникальных значений: {unique_values.size}\")\n",
        "    if dataset[target_column].nunique() <= 20:\n",
        "        print(\"Распределение классов:\")\n",
        "        print(dataset[target_column].value_counts())\n",
        "        print(\"Процентное соотношение классов:\")\n",
        "        print(dataset[target_column].value_counts(normalize=True) * 100)\n",
        "\n",
        "print(\"Статистика\")\n",
        "print(dataset.describe())\n",
        "\n",
        "print(\"Анализ кат. признаков\")\n",
        "categorical_features = []\n",
        "for col in dataset.columns:\n",
        "    unique_values = dataset[col].nunique(dropna=True)\n",
        "    if unique_values <= 10:\n",
        "        categorical_features.append(col)\n",
        "        print(f\"{col}: {unique_values} уникальных значений - {dataset[col].unique()}\")\n",
        "\n",
        "print(f\"\\nВсего категориальных признаков: {len(categorical_features)}\")\n",
        "\n",
        "print(\"Корреляции с целевой переменной\")\n",
        "if target_column in dataset.columns:\n",
        "    correlations = dataset.corr(numeric_only=True)[target_column].sort_values(ascending=False)\n",
        "    print(correlations)\n",
        "# ### END YOUR CODE\n"
      ]
    },
    {
      "cell_type": "markdown",
      "metadata": {
        "id": "IlS6_ntCM4dA"
      },
      "source": [
        " ghdfgsdjkhgfjhsdgfjksdgh"
      ]
    }
  ],
  "metadata": {
    "colab": {
      "include_colab_link": true,
      "provenance": []
    },
    "kernelspec": {
      "display_name": "Python 3",
      "name": "python3"
    },
    "language_info": {
      "name": "python"
    }
  },
  "nbformat": 4,
  "nbformat_minor": 0
}
